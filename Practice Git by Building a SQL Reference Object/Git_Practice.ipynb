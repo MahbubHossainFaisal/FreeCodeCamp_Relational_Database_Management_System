{
 "cells": [
  {
   "cell_type": "markdown",
   "id": "cf3a4191",
   "metadata": {},
   "source": [
    "### Git initialization"
   ]
  },
  {
   "cell_type": "markdown",
   "id": "8aa8086c",
   "metadata": {},
   "source": [
    "### git init"
   ]
  },
  {
   "cell_type": "markdown",
   "id": "6115e345",
   "metadata": {},
   "source": [
    "to initialize .git in the repository"
   ]
  },
  {
   "cell_type": "markdown",
   "id": "bcb6691f",
   "metadata": {},
   "source": [
    "### git status"
   ]
  },
  {
   "cell_type": "markdown",
   "id": "6160fabe",
   "metadata": {},
   "source": [
    "to see the status of where you are"
   ]
  },
  {
   "cell_type": "markdown",
   "id": "de05700d",
   "metadata": {},
   "source": [
    "### New branch"
   ]
  },
  {
   "cell_type": "markdown",
   "id": "08500238",
   "metadata": {},
   "source": [
    "A git repository has branches to help keep track of things you are doing with your code. It's common to have a main branch which might be for your production code, and other branches for adding new features or fixing bugs. You can create and go to a new branch with \"git checkout -b new_branch\". The -b stands for \"branch\". Use that command to switch to a new branch named main."
   ]
  },
  {
   "cell_type": "markdown",
   "id": "27f3e52a",
   "metadata": {},
   "source": [
    "### git log "
   ]
  },
  {
   "cell_type": "markdown",
   "id": "f881b004",
   "metadata": {},
   "source": [
    "to check the commit history"
   ]
  },
  {
   "cell_type": "markdown",
   "id": "05cb45ff",
   "metadata": {},
   "source": [
    "### git diff"
   ]
  },
  {
   "cell_type": "markdown",
   "id": "18a574db",
   "metadata": {},
   "source": [
    " to look at the new changes compared to previous commit use"
   ]
  },
  {
   "cell_type": "markdown",
   "id": "6951829c",
   "metadata": {},
   "source": [
    "### Commit message convention"
   ]
  },
  {
   "cell_type": "markdown",
   "id": "5bf817ff",
   "metadata": {},
   "source": [
    "Commit messages often start with fix: or feat:, among others, to help people understand what your commit was for. "
   ]
  },
  {
   "cell_type": "markdown",
   "id": "609bb5fb",
   "metadata": {},
   "source": [
    "### git branch"
   ]
  },
  {
   "cell_type": "markdown",
   "id": "418ce579",
   "metadata": {},
   "source": [
    "to see the current branches in your repo."
   ]
  },
  {
   "cell_type": "markdown",
   "id": "14fed833",
   "metadata": {},
   "source": [
    " You can create a branch with git branch branch_name. Branches often start with fix/ or feat/, among others, like commit messages, but they use a forward slash and can't contain spaces."
   ]
  },
  {
   "cell_type": "markdown",
   "id": "3998c131",
   "metadata": {},
   "source": [
    "### git checkout branch_name"
   ]
  },
  {
   "cell_type": "markdown",
   "id": "257a1824",
   "metadata": {},
   "source": [
    "To switch to a branch"
   ]
  },
  {
   "cell_type": "markdown",
   "id": "a67447f9",
   "metadata": {},
   "source": [
    "### git log --oneline"
   ]
  },
  {
   "cell_type": "markdown",
   "id": "cd0c09a8",
   "metadata": {},
   "source": [
    "to check commits in more easy way."
   ]
  },
  {
   "cell_type": "markdown",
   "id": "446d2da8",
   "metadata": {},
   "source": [
    "### git merge branch_name"
   ]
  },
  {
   "cell_type": "markdown",
   "id": "124a9718",
   "metadata": {},
   "source": [
    "You can use git merge branch_name to bring changes from a branch into the branch you are currently on."
   ]
  },
  {
   "cell_type": "markdown",
   "id": "ce4a7206",
   "metadata": {},
   "source": [
    "### delete a branch"
   ]
  },
  {
   "cell_type": "markdown",
   "id": "07a3c02f",
   "metadata": {},
   "source": [
    "git branch -d branch_name"
   ]
  },
  {
   "cell_type": "markdown",
   "id": "cc74ec59",
   "metadata": {},
   "source": [
    "### git checkout -b branch_name"
   ]
  },
  {
   "cell_type": "markdown",
   "id": "049b07de",
   "metadata": {},
   "source": [
    "create and switch to a branch at the same time"
   ]
  },
  {
   "cell_type": "markdown",
   "id": "315fbd38",
   "metadata": {},
   "source": [
    "### git rebase"
   ]
  },
  {
   "cell_type": "markdown",
   "id": "004a35d5",
   "metadata": {},
   "source": [
    "git rebase integrates changes from one branch into another by moving the branch's starting point to the tip of another branch, resulting in a linear history. It's useful for keeping the commit history clean and up-to-date with the latest changes from the target branch.\n",
    "Suppose someone added new commit in main branch . And you are in another branch. You want an up to date file in the branch where you are. So use - git rebase main"
   ]
  },
  {
   "cell_type": "markdown",
   "id": "db8128f0",
   "metadata": {},
   "source": [
    "when a git rebase encounters conflicts during the process of integrating changes, you need to resolve the conflicts manually. After resolving the conflicts, you can use git rebase --continue to proceed with the rebase process, applying the remaining changes and completing the rebase operation."
   ]
  },
  {
   "cell_type": "markdown",
   "id": "77db6be1",
   "metadata": {},
   "source": [
    "### git stash"
   ]
  },
  {
   "cell_type": "markdown",
   "id": "0f136f9c",
   "metadata": {},
   "source": [
    "Let's walk through an example of using `git stash`.\n",
    "\n",
    "Suppose you are working on a new feature in your Git repository, and you have made some changes to the code but haven't committed them yet. Now, you need to switch to another branch to work on a bug fix, but you don't want to commit the incomplete changes for the new feature.\n",
    "\n",
    "Step 1: Check the status of your repository:\n",
    "```\n",
    "$ git status\n",
    "```\n",
    "\n",
    "Step 2: Stash the changes:\n",
    "```\n",
    "$ git stash\n",
    "```\n",
    "This command will stash your changes, and your working directory will be clean, without any changes.\n",
    "\n",
    "Step 3: Switch to the other branch:\n",
    "```\n",
    "$ git checkout other-branch\n",
    "```\n",
    "\n",
    "Step 4: Make changes and commit on the other branch.\n",
    "\n",
    "Step 5: Switch back to the original branch:\n",
    "```\n",
    "$ git checkout original-branch\n",
    "```\n",
    "\n",
    "Step 6: Retrieve the stashed changes:\n",
    "```\n",
    "$ git stash pop\n",
    "```\n",
    "Alternatively, you can use `git stash apply` if you want to keep the stash intact and apply it later.\n",
    "\n",
    "After running `git stash pop` or `git stash apply`, the changes you stashed in Step 2 will be reapplied to your working directory, and you can continue working on your new feature without losing the changes you made earlier.\n",
    "\n",
    "\n",
    "### Example\n",
    "\n",
    "Let's go through an example of using `git stash`.\n",
    "\n",
    "Suppose you have a Git repository with a file named `example.txt`, and it currently contains the following content:\n",
    "\n",
    "```\n",
    "This is some initial content.\n",
    "```\n",
    "\n",
    "Step 1: Make changes to `example.txt` but don't commit them yet. Change the file to the following content:\n",
    "\n",
    "```\n",
    "This is some initial content.\n",
    "This is a new line of text.\n",
    "```\n",
    "\n",
    "Step 2: Check the status of your repository to see the changes:\n",
    "\n",
    "```\n",
    "$ git status\n",
    "```\n",
    "\n",
    "Output:\n",
    "```\n",
    "On branch main\n",
    "Changes not staged for commit:\n",
    "  (use \"git add <file>...\" to update what will be committed)\n",
    "  (use \"git restore <file>...\" to discard changes in working directory)\n",
    "\n",
    "    modified:   example.txt\n",
    "\n",
    "no changes added to commit (use \"git add\" and/or \"git commit -a\")\n",
    "```\n",
    "\n",
    "Step 3: Realize that you need to switch to another branch to work on a critical bug fix, but you don't want to commit the changes you made to `example.txt` just yet. So, you stash the changes:\n",
    "\n",
    "```\n",
    "$ git stash\n",
    "```\n",
    "\n",
    "Step 4: Check the status again to confirm the changes are stashed:\n",
    "\n",
    "```\n",
    "$ git status\n",
    "```\n",
    "\n",
    "Output:\n",
    "```\n",
    "On branch main\n",
    "nothing to commit, working tree clean\n",
    "```\n",
    "\n",
    "Step 5: Switch to the other branch to fix the bug:\n",
    "\n",
    "```\n",
    "$ git checkout bug-fix-branch\n",
    "```\n",
    "\n",
    "Step 6: Make the necessary bug fix and commit the changes on the `bug-fix-branch`.\n",
    "\n",
    "Step 7: Now, switch back to the original branch to continue working on the new feature:\n",
    "\n",
    "```\n",
    "$ git checkout main\n",
    "```\n",
    "\n",
    "Step 8: Retrieve the stashed changes:\n",
    "\n",
    "```\n",
    "$ git stash pop\n",
    "```\n",
    "\n",
    "This will apply the changes you made to `example.txt` earlier, and the content of `example.txt` will be:\n",
    "\n",
    "```\n",
    "This is some initial content.\n",
    "This is a new line of text.\n",
    "```\n",
    "\n",
    "Now, you can continue working on your new feature without losing the changes you made earlier, and the bug fix you made on the other branch is safely committed there."
   ]
  },
  {
   "cell_type": "markdown",
   "id": "cb3f91b6",
   "metadata": {},
   "source": [
    "### git stash list"
   ]
  },
  {
   "cell_type": "markdown",
   "id": "20010a24",
   "metadata": {},
   "source": [
    "`git stash list` displays a list of stashed changes in the repository, showing their unique identifiers and optional messages. It helps you identify and manage stashed changes, enabling you to choose which stash to apply or drop based on your requirements."
   ]
  },
  {
   "cell_type": "markdown",
   "id": "4d48f97f",
   "metadata": {},
   "source": [
    "### git stash show"
   ]
  },
  {
   "cell_type": "markdown",
   "id": "f8b41a55",
   "metadata": {},
   "source": [
    "In Git, `git stash show` is a command used to display the changes that are currently stashed. This command shows the diff of the changes between the working directory and the stashed state. It helps you review the stashed changes before deciding to apply or drop them.\n",
    "\n",
    "To use `git stash show`, simply open your terminal or command prompt, navigate to the Git repository, and enter the following command:\n",
    "\n",
    "```\n",
    "$ git stash show\n",
    "```\n",
    "\n",
    "By default, this command will show the diff of the changes between the most recent stash and your current working directory.\n",
    "\n",
    "You can also specify a specific stash to show the changes by providing its index, like this:\n",
    "\n",
    "```\n",
    "$ git stash show stash@{n}\n",
    "```\n",
    "\n",
    "Replace `n` with the index of the stash you want to inspect. For example, `stash@{0}` refers to the most recent stash, `stash@{1}` to the second most recent, and so on.\n",
    "\n",
    "The output will display the diff of the changes in the stashed files, giving you an overview of what modifications were saved in the stash. This information helps you decide whether to apply the stash back to your working directory or to discard it."
   ]
  },
  {
   "cell_type": "markdown",
   "id": "e8662695",
   "metadata": {},
   "source": [
    "### git stash show -p"
   ]
  },
  {
   "cell_type": "markdown",
   "id": "8f57f9f1",
   "metadata": {},
   "source": [
    "`git stash show -p` lists the changes that are currently stashed in the Git repository. The `-p` option displays the changes in a patch (diff) format, showing the modifications made to files. This helps you review the stashed changes before applying or dropping them."
   ]
  },
  {
   "cell_type": "markdown",
   "id": "8794f13b",
   "metadata": {},
   "source": [
    "### git stash apply"
   ]
  },
  {
   "cell_type": "markdown",
   "id": "186ad97f",
   "metadata": {},
   "source": [
    "Apologies for the confusion, but there is no specific command called \"git stash apply list.\" The `git stash apply` command is used to apply stashed changes to your working directory, and it doesn't have any direct relationship with listing stashes.\n",
    "\n",
    "To list the stashed changes, you can use the `git stash list` command:\n",
    "\n",
    "```\n",
    "$ git stash list\n",
    "```\n",
    "\n",
    "This command will display a list of stashed changes along with their unique identifiers and optional messages, helping you identify and manage stashed changes in your repository. Once you see the list, you can use `git stash apply` followed by the stash identifier (e.g., `git stash apply stash@{0}`) to apply a specific stash from the list to your working directory."
   ]
  },
  {
   "cell_type": "code",
   "execution_count": null,
   "id": "431fef72",
   "metadata": {},
   "outputs": [],
   "source": []
  }
 ],
 "metadata": {
  "kernelspec": {
   "display_name": "Python 3 (ipykernel)",
   "language": "python",
   "name": "python3"
  },
  "language_info": {
   "codemirror_mode": {
    "name": "ipython",
    "version": 3
   },
   "file_extension": ".py",
   "mimetype": "text/x-python",
   "name": "python",
   "nbconvert_exporter": "python",
   "pygments_lexer": "ipython3",
   "version": "3.9.13"
  }
 },
 "nbformat": 4,
 "nbformat_minor": 5
}
